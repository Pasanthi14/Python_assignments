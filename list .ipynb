{
 "cells": [
  {
   "cell_type": "code",
   "execution_count": 2,
   "metadata": {},
   "outputs": [
    {
     "data": {
      "text/plain": [
       "[10, 20, [30, 40, [50, 60, 70], 80], 90, 100]"
      ]
     },
     "execution_count": 2,
     "metadata": {},
     "output_type": "execute_result"
    }
   ],
   "source": [
    "#Add item 70 after 60 in the following python list\n",
    "#output\n",
    "#[10,20,[30,40,[50,60,70],80],90,100]\n",
    "#input \n",
    "l1=[10,20,[30,40,[50,60],80],90,100]\n",
    "l2=l1[2][2]\n",
    "l2_copy=l2\n",
    "l2_copy.append(70)\n",
    "l2_copy\n",
    "l1"
   ]
  },
  {
   "cell_type": "code",
   "execution_count": 76,
   "metadata": {},
   "outputs": [
    {
     "data": {
      "text/plain": [
       "[1, 2, [3, 4, 5, 6, [7, 8]], 9]"
      ]
     },
     "execution_count": 76,
     "metadata": {},
     "output_type": "execute_result"
    }
   ],
   "source": [
    "#Add sublist[7,8]\n",
    "#output-m=[1,2,[3,4,5,6,[7,8]],9]\n",
    "m=[1,2,[3,4,5,6],9]\n",
    "a=m[2]\n",
    "a_copy=a#copying a with a_copy\n",
    "a_copy.append([7,8])#appending the copied list\n",
    "a # list after appending a_copy\n",
    "m"
   ]
  },
  {
   "cell_type": "markdown",
   "metadata": {},
   "source": []
  },
  {
   "cell_type": "code",
   "execution_count": 11,
   "metadata": {},
   "outputs": [
    {
     "name": "stdout",
     "output_type": "stream",
     "text": [
      "['Python', 'Java']\n"
     ]
    },
    {
     "data": {
      "text/plain": [
       "[1, 5, 7, 8, 8]"
      ]
     },
     "execution_count": 11,
     "metadata": {},
     "output_type": "execute_result"
    }
   ],
   "source": [
    "#remove()  --  removes the first occurrence of the element with the specified value.\n",
    "#syntax ---list.remove(elmnt)\n",
    "\n",
    "list=[\"Python\",\"Java\", \"C++\"]\n",
    "list2=[1,8,5,7,8,8]\n",
    "list.remove(\"C++\")\n",
    "list2.remove(8)\n",
    "print(list)\n",
    "list2"
   ]
  },
  {
   "cell_type": "code",
   "execution_count": 15,
   "metadata": {},
   "outputs": [
    {
     "data": {
      "text/plain": [
       "2"
      ]
     },
     "execution_count": 15,
     "metadata": {},
     "output_type": "execute_result"
    }
   ],
   "source": [
    "#count() ---returns the number of elements with the specified value\n",
    "#syntax ---list.count(value)\n",
    "\n",
    "P=[\"The animal\",\"Book\",\"Tiger\",\"Book\"]\n",
    "P.count(\"Book\")"
   ]
  },
  {
   "cell_type": "code",
   "execution_count": 17,
   "metadata": {},
   "outputs": [
    {
     "data": {
      "text/plain": [
       "[]"
      ]
     },
     "execution_count": 17,
     "metadata": {},
     "output_type": "execute_result"
    }
   ],
   "source": [
    "#clear()   ----removes all the elements from a list.\n",
    "#syntax----list.clear()\n",
    "A=[\"AN\",\"The\",\"You\",\"Me\"]\n",
    "A.clear()\n",
    "A"
   ]
  },
  {
   "cell_type": "code",
   "execution_count": 24,
   "metadata": {},
   "outputs": [
    {
     "data": {
      "text/plain": [
       "['car', 'Train', 'Bus']"
      ]
     },
     "execution_count": 24,
     "metadata": {},
     "output_type": "execute_result"
    }
   ],
   "source": [
    "#sort() --- sorts the list ascending by default.\n",
    "#syntax ----list.sort(reverse=True|False, key=myFunc)    here reverse is true then descending order sorting will occur\n",
    "\n",
    "B=[\"car\",\"Bus\",\"Train\"]\n",
    "B.sort(reverse=True)\n",
    "B"
   ]
  },
  {
   "cell_type": "code",
   "execution_count": 26,
   "metadata": {},
   "outputs": [
    {
     "data": {
      "text/plain": [
       "['table', 'moon', 'sky']"
      ]
     },
     "execution_count": 26,
     "metadata": {},
     "output_type": "execute_result"
    }
   ],
   "source": [
    "#reverse() --- reverses the sorting order of the elements.\n",
    "#list.reverse()\n",
    "C=[\"sky\",\"moon\",\"table\"]\n",
    "C.reverse()\n",
    "C"
   ]
  },
  {
   "cell_type": "code",
   "execution_count": null,
   "metadata": {},
   "outputs": [],
   "source": []
  }
 ],
 "metadata": {
  "kernelspec": {
   "display_name": "Python 3",
   "language": "python",
   "name": "python3"
  },
  "language_info": {
   "codemirror_mode": {
    "name": "ipython",
    "version": 3
   },
   "file_extension": ".py",
   "mimetype": "text/x-python",
   "name": "python",
   "nbconvert_exporter": "python",
   "pygments_lexer": "ipython3",
   "version": "3.7.6"
  }
 },
 "nbformat": 4,
 "nbformat_minor": 4
}
