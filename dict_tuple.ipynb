{
 "cells": [
  {
   "cell_type": "code",
   "execution_count": 1,
   "metadata": {},
   "outputs": [
    {
     "data": {
      "text/plain": [
       "{'april batch': {'student': {'name': 'mike',\n",
       "   'marks': {'python': 80, 'maths': 70}}}}"
      ]
     },
     "execution_count": 1,
     "metadata": {},
     "output_type": "execute_result"
    }
   ],
   "source": [
    "dict1={\"april batch\":{\n",
    "    \"student\":{\n",
    "        \"name\":\"mike\",\n",
    "        \"marks\":{\n",
    "            \"python\":80,\n",
    "            \"maths\":70\n",
    "        }}}}\n",
    "dict1"
   ]
  },
  {
   "cell_type": "code",
   "execution_count": 2,
   "metadata": {},
   "outputs": [
    {
     "data": {
      "text/plain": [
       "'mike'"
      ]
     },
     "execution_count": 2,
     "metadata": {},
     "output_type": "execute_result"
    }
   ],
   "source": [
    "#accessing \"mike\"\n",
    "dict1[\"april batch\"][\"student\"][\"name\"]"
   ]
  },
  {
   "cell_type": "code",
   "execution_count": 3,
   "metadata": {},
   "outputs": [
    {
     "data": {
      "text/plain": [
       "80"
      ]
     },
     "execution_count": 3,
     "metadata": {},
     "output_type": "execute_result"
    }
   ],
   "source": [
    "#access 80\n",
    "dict1[\"april batch\"][\"student\"][\"marks\"][\"python\"]"
   ]
  },
  {
   "cell_type": "code",
   "execution_count": 4,
   "metadata": {},
   "outputs": [
    {
     "data": {
      "text/plain": [
       "{'april batch': {'student': {'name': 'prasanthi',\n",
       "   'marks': {'python': 80, 'maths': 70}}}}"
      ]
     },
     "execution_count": 4,
     "metadata": {},
     "output_type": "execute_result"
    }
   ],
   "source": [
    "#change mike to your name\n",
    "dict1[\"april batch\"][\"student\"][\"name\"]= \"prasanthi\"\n",
    "dict1"
   ]
  },
  {
   "cell_type": "code",
   "execution_count": 8,
   "metadata": {},
   "outputs": [
    {
     "data": {
      "text/plain": [
       "{'april batch': {'student': {'name': 'prasanthi',\n",
       "   'marks': {'python': 80, 'maths': 70, 'ML': 80, 'DL': 80}}}}"
      ]
     },
     "execution_count": 8,
     "metadata": {},
     "output_type": "execute_result"
    }
   ],
   "source": [
    "#add ML=80 ND DL=80 inside marks\n",
    "dict1[\"april batch\"][\"student\"][\"marks\"][\"ML\"] =80\n",
    "dict1[\"april batch\"][\"student\"][\"marks\"][\"DL\"] =80\n",
    "dict1"
   ]
  },
  {
   "cell_type": "code",
   "execution_count": 29,
   "metadata": {},
   "outputs": [
    {
     "name": "stdout",
     "output_type": "stream",
     "text": [
      "[1, 2, 5, 0.05, 'food', True]\n",
      "[12, 1, 2, 5, 0.05, 'food', True]\n",
      "[12, 1, 2, 5, 0.05, 'food', True, 22, 33, 44]\n",
      "[12, 1, 2, 5, 0.05, True, 22, 33, 44]\n",
      "(12, 1, 2, 5, 0.05, True, 22, 33, 44)\n"
     ]
    }
   ],
   "source": [
    "#Add and remove items from tuple \n",
    "tup=(1,2,5,0.05,\"food\",True)\n",
    "#to add 10\n",
    "list1 = list(tup)\n",
    "print(list1)\n",
    "list1.insert(0,12)#adding element at a particular index\n",
    "print(list1)\n",
    "list2=[22,33,44]\n",
    "list1.extend(list2) #adding multiple elements\n",
    "print(list1)\n",
    "list1.pop(5)#removes food using pop\n",
    "print(list1)\n",
    "tup=tuple(list1)\n",
    "print(tup)"
   ]
  },
  {
   "cell_type": "code",
   "execution_count": null,
   "metadata": {},
   "outputs": [],
   "source": []
  },
  {
   "cell_type": "code",
   "execution_count": null,
   "metadata": {},
   "outputs": [],
   "source": [
    "\n"
   ]
  },
  {
   "cell_type": "code",
   "execution_count": null,
   "metadata": {},
   "outputs": [],
   "source": []
  }
 ],
 "metadata": {
  "kernelspec": {
   "display_name": "Python 3",
   "language": "python",
   "name": "python3"
  },
  "language_info": {
   "codemirror_mode": {
    "name": "ipython",
    "version": 3
   },
   "file_extension": ".py",
   "mimetype": "text/x-python",
   "name": "python",
   "nbconvert_exporter": "python",
   "pygments_lexer": "ipython3",
   "version": "3.7.6"
  }
 },
 "nbformat": 4,
 "nbformat_minor": 4
}
