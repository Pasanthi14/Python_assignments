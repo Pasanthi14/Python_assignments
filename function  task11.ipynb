{
 "cells": [
  {
   "cell_type": "code",
   "execution_count": 5,
   "metadata": {},
   "outputs": [
    {
     "name": "stdout",
     "output_type": "stream",
     "text": [
      "enter first number:12\n",
      "enter second number:5\n",
      "Select operations form 1, 2, 3, 4, 5 :5\n",
      "floordivision=2\n"
     ]
    }
   ],
   "source": [
    "#Task11\n",
    " #Ask 2 numbers from users and store it in num1 and num2\n",
    " #Ask user to press 1 for addition,2 for subtraction,3 for multiplication and 4 for division\n",
    " #create 4 seperate functions for each operation (i.e. addition,subtraction,multiplication and division)\n",
    " # based on number given by user,call that perticular function and print the output\n",
    "def add(num1,num2):\n",
    "        A=num1+num2\n",
    "        print(\"sum={}\".format(A))\n",
    "        \n",
    "def prod(num1,num2):\n",
    "        p=num1*num2\n",
    "        print(\"product={}\".format(p))\n",
    "\n",
    "def div(num1,num2):\n",
    "        d=num1/num2\n",
    "        print(\"division={}\".format(d))\n",
    "        \n",
    "def fdiv(num1,num2):\n",
    "        f=num1//num2\n",
    "        print(\"floordivision={}\".format(f))\n",
    "        \n",
    "def sub(num1,num2):\n",
    "        s=num1-num2\n",
    "        print(\"subtraction={}\".format(s))\n",
    "        \n",
    "\n",
    "num1=int(input('enter first number:'))\n",
    "num2=int(input('enter second number:'))\n",
    "c =input(\"Select operations form 1, 2, 3, 4, 5 :\")\n",
    "if(c=='1'):\n",
    "    add(num1,num2)\n",
    "elif(c=='2'):\n",
    "    sub(num1,num2)\n",
    "elif(c=='3'):\n",
    "    prod(num1,num2)\n",
    "elif(c=='4'):\n",
    "    div(num1,num2)\n",
    "elif(c=='5'):\n",
    "    fdiv(num1,num2)\n",
    "else:\n",
    "    print(\"invalid input\")\n",
    "\n",
    "\n"
   ]
  },
  {
   "cell_type": "code",
   "execution_count": null,
   "metadata": {},
   "outputs": [],
   "source": []
  },
  {
   "cell_type": "code",
   "execution_count": null,
   "metadata": {},
   "outputs": [],
   "source": []
  }
 ],
 "metadata": {
  "kernelspec": {
   "display_name": "Python 3",
   "language": "python",
   "name": "python3"
  },
  "language_info": {
   "codemirror_mode": {
    "name": "ipython",
    "version": 3
   },
   "file_extension": ".py",
   "mimetype": "text/x-python",
   "name": "python",
   "nbconvert_exporter": "python",
   "pygments_lexer": "ipython3",
   "version": "3.7.6"
  }
 },
 "nbformat": 4,
 "nbformat_minor": 4
}
