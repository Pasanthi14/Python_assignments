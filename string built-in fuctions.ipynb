{
 "cells": [
  {
   "cell_type": "code",
   "execution_count": 83,
   "metadata": {},
   "outputs": [
    {
     "name": "stdout",
     "output_type": "stream",
     "text": [
      "Food\n",
      "Fo\n",
      "od\n",
      "Food\n"
     ]
    }
   ],
   "source": [
    "#Built-in functions in string\n",
    "\n",
    "P=\"Food\"\n",
    "print(P)\n",
    "a=P[0:2]#slicing\n",
    "b=P[-2:]\n",
    "print(a)\n",
    "print(b)\n",
    "print(a+b)\n"
   ]
  },
  {
   "cell_type": "code",
   "execution_count": 14,
   "metadata": {},
   "outputs": [
    {
     "name": "stdout",
     "output_type": "stream",
     "text": [
      "aaaFoodaaa\n"
     ]
    }
   ],
   "source": [
    "\n",
    "#center()- will center align the string, using a specified character (space is default) as the fill character.\n",
    "#string.center(length, character)-syntax\n",
    "X=P.center(10,\"a\")\n",
    "print(X)"
   ]
  },
  {
   "cell_type": "code",
   "execution_count": 21,
   "metadata": {},
   "outputs": [
    {
     "name": "stdout",
     "output_type": "stream",
     "text": [
      "I want one apple and one mango\n",
      "2\n"
     ]
    }
   ],
   "source": [
    "#count() - Returns the number of times a specified value occurs in a string\n",
    "#string.count(value, start, end)-syntax\n",
    "R=\"I want one apple and one mango\"\n",
    "print(R)\n",
    "x=R.count(\"one\",5,27)\n",
    "print(x)"
   ]
  },
  {
   "cell_type": "code",
   "execution_count": 26,
   "metadata": {},
   "outputs": [
    {
     "name": "stdout",
     "output_type": "stream",
     "text": [
      "My name is prav, I'm 36\n",
      "My name is pavan, I'm 26\n",
      "We have          4           books.\n"
     ]
    }
   ],
   "source": [
    "#format()\n",
    "y = \"My name is {}, I'm {}\".format(\"prav\", 36)\n",
    "print(y)\n",
    "yz= \"My name is {m}, I'm {n}\".format(m=\"pavan\",n=26)\n",
    "print(yz)\n",
    "#To demonstrate, we insert the number 20 to set the available space for the value to 20 characters.\n",
    "#Use \"^\" to center-align the value:\n",
    "\n",
    "txt = \"We have {:^20} books.\"\n",
    "print(txt.format(4))"
   ]
  },
  {
   "cell_type": "code",
   "execution_count": 30,
   "metadata": {},
   "outputs": [
    {
     "name": "stdout",
     "output_type": "stream",
     "text": [
      "applelmangolmelon\n"
     ]
    }
   ],
   "source": [
    "#join()-takes all items in an iterable and joins them into one string.\n",
    "#string.join(iterable) -synatx\n",
    "x = (\"apple\", \"mango\", \"melon\")\n",
    "\n",
    "y = \"l\".join(x)\n",
    "\n",
    "print(y)\n"
   ]
  },
  {
   "cell_type": "code",
   "execution_count": 33,
   "metadata": {},
   "outputs": [
    {
     "name": "stdout",
     "output_type": "stream",
     "text": [
      "of fruits banana      is my favorite\n",
      "of fruits      banana is my favorite\n"
     ]
    }
   ],
   "source": [
    "#lstrip(),rstrip() - method removes any leading characters \n",
    "#string.lstrip(characters) -syntax\n",
    "a = \"     banana     \"\n",
    "\n",
    "b = a.lstrip()\n",
    "c = a.rstrip()\n",
    "\n",
    "print(\"of fruits\", b, \"is my favorite\")\n",
    "print(\"of fruits\", c, \"is my favorite\")"
   ]
  },
  {
   "cell_type": "code",
   "execution_count": 51,
   "metadata": {},
   "outputs": [
    {
     "name": "stdout",
     "output_type": "stream",
     "text": [
      "['apple#banana', 'cherry', 'b']\n",
      "['apple', 'banana', 'cherry', 'b']\n"
     ]
    }
   ],
   "source": [
    "#rsplit() - splits a string into a list, starting from the right.\n",
    "#string.rsplit(separator, maxsplit) - syntax\n",
    "\n",
    "a = \"apple#banana#cherry#b\"\n",
    "\n",
    "x = a.rsplit(\"#\", 2)\n",
    "y=a.split(\"#\",3)\n",
    "print(x)\n",
    "print(y)"
   ]
  },
  {
   "cell_type": "code",
   "execution_count": 53,
   "metadata": {},
   "outputs": [
    {
     "name": "stdout",
     "output_type": "stream",
     "text": [
      "apple\n",
      "2345\n",
      "False\n",
      "banana     \n"
     ]
    }
   ],
   "source": [
    "#isdecimal() - returns True if all the characters are decimals (0-9)\n",
    "#string.isdecimal() \n",
    "y=\"apple\"\n",
    "z=\"2345\"\n",
    "print(y)\n",
    "print(z)\n",
    "a=y.isdecimal()\n",
    "a=b.isdecimal()\n",
    "print(a)\n",
    "print(b)"
   ]
  },
  {
   "cell_type": "code",
   "execution_count": 64,
   "metadata": {},
   "outputs": [
    {
     "name": "stdout",
     "output_type": "stream",
     "text": [
      "abvA345_\n",
      "True\n",
      "False\n"
     ]
    }
   ],
   "source": [
    "# isidentifier() - returns True if the string is a valid identifier(a-zZ,0-9,_) otherwise False.\n",
    "#string.isidentifier()\n",
    "y=\"abvA345_\"\n",
    "z=\"csftg-\"\n",
    "print(y)\n",
    "a=y.isidentifier()\n",
    "print(a)\n",
    "b=z.isidentifier()\n",
    "print(b)"
   ]
  },
  {
   "cell_type": "code",
   "execution_count": 76,
   "metadata": {},
   "outputs": [
    {
     "name": "stdout",
     "output_type": "stream",
     "text": [
      "8\n"
     ]
    }
   ],
   "source": [
    "#Task2 \n",
    "#check if 'to' is present in string\n",
    "str1=\"Welcome to python\"\n",
    "a=str1.rfind(\"to\")#here by using rfind() we are searching the word 'to' and it is giving its index if it is present and if value is not find it will give -1 as a result.\n",
    "print(a)"
   ]
  },
  {
   "cell_type": "code",
   "execution_count": null,
   "metadata": {},
   "outputs": [],
   "source": []
  }
 ],
 "metadata": {
  "kernelspec": {
   "display_name": "Python 3",
   "language": "python",
   "name": "python3"
  },
  "language_info": {
   "codemirror_mode": {
    "name": "ipython",
    "version": 3
   },
   "file_extension": ".py",
   "mimetype": "text/x-python",
   "name": "python",
   "nbconvert_exporter": "python",
   "pygments_lexer": "ipython3",
   "version": "3.7.6"
  }
 },
 "nbformat": 4,
 "nbformat_minor": 4
}
