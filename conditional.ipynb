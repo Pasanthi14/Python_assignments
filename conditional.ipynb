{
 "cells": [
  {
   "cell_type": "code",
   "execution_count": 1,
   "metadata": {},
   "outputs": [
    {
     "name": "stdout",
     "output_type": "stream",
     "text": [
      "enter first number:5\n",
      "enter second number:3\n",
      "Select operations form 1, 2, 3, 4, 5 :5\n",
      "2\n"
     ]
    }
   ],
   "source": [
    "#Task9\n",
    "a=int(input('enter first number:'))\n",
    "b=int(input('enter second number:'))\n",
    "c = int(input(\"Select operations form 1, 2, 3, 4, 5 :\")) \n",
    "if(c==1):\n",
    "    print(a+b)\n",
    "elif(c==2):\n",
    "    print(a*b)\n",
    "elif(c==3):\n",
    "    print(a/b)\n",
    "elif(c==4):\n",
    "    print(a//b)\n",
    "elif(c==5):\n",
    "    print(a-b)\n",
    "else:\n",
    "    print(\"invalid input\")\n",
    "\n",
    "\n"
   ]
  },
  {
   "cell_type": "code",
   "execution_count": null,
   "metadata": {},
   "outputs": [],
   "source": []
  }
 ],
 "metadata": {
  "kernelspec": {
   "display_name": "Python 3",
   "language": "python",
   "name": "python3"
  },
  "language_info": {
   "codemirror_mode": {
    "name": "ipython",
    "version": 3
   },
   "file_extension": ".py",
   "mimetype": "text/x-python",
   "name": "python",
   "nbconvert_exporter": "python",
   "pygments_lexer": "ipython3",
   "version": "3.7.6"
  }
 },
 "nbformat": 4,
 "nbformat_minor": 4
}
