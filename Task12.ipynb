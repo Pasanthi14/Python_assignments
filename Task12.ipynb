{
 "cells": [
  {
   "cell_type": "code",
   "execution_count": null,
   "metadata": {},
   "outputs": [],
   "source": [
    "#Reduce()\n",
    "nums=[0,1,2,3,4,5,6]\n",
    "#def fn(num):\n",
    "  #  return(num***3)\n",
    "lambda num : num**3\n",
    "print(list(map(lambda num : num**3,nums)))"
   ]
  },
  {
   "cell_type": "code",
   "execution_count": 1,
   "metadata": {},
   "outputs": [
    {
     "name": "stdout",
     "output_type": "stream",
     "text": [
      "[3, 6, 9]\n"
     ]
    },
    {
     "data": {
      "text/plain": [
       "[False, False, True, False, False, True, False, False, True, False]"
      ]
     },
     "execution_count": 1,
     "metadata": {},
     "output_type": "execute_result"
    }
   ],
   "source": [
    "tup=[1,2,3,4,5,6,7,8,9,10]\n",
    "lambda num:num%3==0\n",
    "print(list(filter(lambda num:num%3==0,tup)))\n",
    "list(map(lambda num:num%3==0,tup))"
   ]
  },
  {
   "cell_type": "code",
   "execution_count": null,
   "metadata": {},
   "outputs": [],
   "source": [
    "#The zip() ------function takes iterables (can be zero or more), aggregates them in a tuple, and return it.\n",
    "            #to map the similar index of multiple containers so that they can be used just using as single entity. \n",
    "number_list = [1, 3, 2]\n",
    "str_list = ['java', 'c++', 'python']\n",
    "\n",
    "result = zip()   # No iterables are passed\n",
    "\n",
    "# Converting itertor to list\n",
    "result_list = list(result)\n",
    "print(result_list)\n",
    "\n",
    "\n",
    "result = zip(number_list, str_list)    # Two iterables are passed\n",
    "\n",
    "# Converting itertor to set\n",
    "result_set = set(result)\n",
    "print(result_set)"
   ]
  },
  {
   "cell_type": "code",
   "execution_count": null,
   "metadata": {},
   "outputs": [],
   "source": [
    "# Unzipping the Value Using zip()\n",
    "l = [1, 2, 3]\n",
    "m =['java', 'c++', 'python']\n",
    "\n",
    "result = zip(l, m)\n",
    "result_list = list(result)\n",
    "print(result_list)\n",
    "\n",
    "l, m =  zip(*result_list)\n",
    "print('l =', l)\n",
    "print('m =', m)"
   ]
  },
  {
   "cell_type": "code",
   "execution_count": null,
   "metadata": {},
   "outputs": [],
   "source": [
    "# Different number of iterable elements\n",
    "l = [1, 2, 3]\n",
    "m =['java', 'c++', 'python']\n",
    "n = ('html', 'css', 'angular', 'hybrid')\n",
    "\n",
    "result = zip(l, n) #size of l nd n are different\n",
    "\n",
    "# Converting to set\n",
    "result_set = set(result)\n",
    "print(result_set)\n",
    "\n",
    "result = zip(l, m, n)\n",
    "\n",
    "# Converting to set\n",
    "result_set = set(result)\n",
    "print(result_set)"
   ]
  },
  {
   "cell_type": "code",
   "execution_count": null,
   "metadata": {},
   "outputs": [],
   "source": [
    "#Enumerate() -method adds counter to an iterable and returns it (the enumerate object).[to keep count of iteratins]\n",
    "#syntax---enumerate(iterable, start=0)  start=0 : from where the iteration should start\n",
    "n = ('html', 'css', 'angular', 'hybrid')\n",
    "enumerate_n = enumerate(n)\n",
    "\n",
    "print(type(enumerate_n))\n",
    "\n",
    "# converting to list\n",
    "print(list(enumerate_n))\n",
    "\n",
    "# changing the default counter\n",
    "enumerate_n = enumerate(n, 10)\n",
    "print(list(enumerate_n))"
   ]
  },
  {
   "cell_type": "code",
   "execution_count": null,
   "metadata": {},
   "outputs": [],
   "source": [
    "# Looping Over an Enumerate object\n",
    "n = ('html', 'css', 'angular', 'hybrid')\n",
    "\n",
    "for item in enumerate(n):\n",
    "   print(item)\n",
    "print('\\n')\n",
    "for count, item in enumerate(n):    #since we dint give index where to start it takes as 0.\n",
    "    print(count, item)\n",
    "\n",
    "print('\\n')\n",
    "# changing default start value\n",
    "for count, item in enumerate(n, 100):\n",
    "  print(count, item)"
   ]
  },
  {
   "cell_type": "code",
   "execution_count": 2,
   "metadata": {},
   "outputs": [
    {
     "data": {
      "text/plain": [
       "55"
      ]
     },
     "execution_count": 2,
     "metadata": {},
     "output_type": "execute_result"
    }
   ],
   "source": [
    "#Reduce()--- function\n",
    "import functools\n",
    "seq=[1,2,3,4,5,6,7,8,9,10]\n",
    "\n",
    "functools.reduce(lambda x,y:x+y,seq)\n"
   ]
  },
  {
   "cell_type": "code",
   "execution_count": null,
   "metadata": {},
   "outputs": [],
   "source": [
    "import functools\n",
    "\n",
    "def factorial(n):\n",
    "    if n == 0:\n",
    "        return 1\n",
    "    else:\n",
    "        return functools.reduce(lambda x,y: x*y, range(1,n+1))\n",
    "\n",
    "print factorial(3)\n"
   ]
  },
  {
   "cell_type": "code",
   "execution_count": 6,
   "metadata": {},
   "outputs": [
    {
     "data": {
      "text/plain": [
       "3628800"
      ]
     },
     "execution_count": 6,
     "metadata": {},
     "output_type": "execute_result"
    }
   ],
   "source": [
    "import functools\n",
    "seq=[1,2,3,4,5,6,7,8,9,10]\n",
    "functools.reduce(lambda x,y: x*y, seq)"
   ]
  },
  {
   "cell_type": "code",
   "execution_count": null,
   "metadata": {},
   "outputs": [],
   "source": []
  }
 ],
 "metadata": {
  "kernelspec": {
   "display_name": "Python 3",
   "language": "python",
   "name": "python3"
  },
  "language_info": {
   "codemirror_mode": {
    "name": "ipython",
    "version": 3
   },
   "file_extension": ".py",
   "mimetype": "text/x-python",
   "name": "python",
   "nbconvert_exporter": "python",
   "pygments_lexer": "ipython3",
   "version": "3.7.6"
  }
 },
 "nbformat": 4,
 "nbformat_minor": 4
}
